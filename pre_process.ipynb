{
 "cells": [
  {
   "cell_type": "code",
   "execution_count": 1,
   "id": "fdc70f48",
   "metadata": {},
   "outputs": [],
   "source": [
    "# YYYY.MM.DD;HH:MM;Open;High;Low;Close;Volume\n",
    "import pandas as pd\n",
    "import os\n",
    "from functions.pre_processing import *\n",
    "import ta\n",
    "import glob"
   ]
  },
  {
   "cell_type": "code",
   "execution_count": 4,
   "id": "f70b1287",
   "metadata": {},
   "outputs": [],
   "source": [
    "# List all CSVs (adjust path)\n",
    "file_list = sorted(glob.glob(\"data/DAT_ASCII_EURUSD_M1_2024.csv\"))\n",
    "\n",
    "# Load and concatenate\n",
    "df_all = pd.concat([pd.read_csv(f, sep=';', header=None) for f in file_list], ignore_index=True)\n",
    "\n",
    "# Save as one big file\n",
    "df_all.to_csv(\"EURJPY_M1_combined.csv\", index=False, header=False)"
   ]
  },
  {
   "cell_type": "code",
   "execution_count": null,
   "id": "f8ce0223",
   "metadata": {},
   "outputs": [],
   "source": [
    "df = build_eurusd_dataset(\"EURUSD_M1_combined.csv\", hours_ahead=1)\n",
    "df.to_csv(\"eurusd_dataset_2024.csv\", index=True)"
   ]
  }
 ],
 "metadata": {
  "kernelspec": {
   "display_name": "quant-trading",
   "language": "python",
   "name": "python3"
  },
  "language_info": {
   "codemirror_mode": {
    "name": "ipython",
    "version": 3
   },
   "file_extension": ".py",
   "mimetype": "text/x-python",
   "name": "python",
   "nbconvert_exporter": "python",
   "pygments_lexer": "ipython3",
   "version": "3.10.18"
  }
 },
 "nbformat": 4,
 "nbformat_minor": 5
}
