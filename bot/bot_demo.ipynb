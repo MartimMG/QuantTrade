{
 "cells": [
  {
   "cell_type": "code",
   "execution_count": 5,
   "id": "fbe544e2",
   "metadata": {},
   "outputs": [
    {
     "name": "stdout",
     "output_type": "stream",
     "text": [
      "MetaTrader5 package author:  MetaQuotes Ltd.\n",
      "MetaTrader5 package version:  5.0.5050\n",
      "TerminalInfo(community_account=False, community_connection=False, connected=True, dlls_allowed=False, trade_allowed=False, tradeapi_disabled=False, email_enabled=False, ftp_enabled=False, notifications_enabled=False, mqid=False, build=5111, maxbars=100000, codepage=0, ping_last=126880, community_balance=0.0, retransmission=0.4274909569220651, company='IC Markets (EU) Ltd', name='MetaTrader 5 IC Markets EU', language='English', path='C:\\\\Program Files\\\\MetaTrader 5 IC Markets EU', data_path='C:\\\\Users\\\\marti\\\\AppData\\\\Roaming\\\\MetaQuotes\\\\Terminal\\\\4B1CE69F577705455263BD980C39A82C', commondata_path='C:\\\\Users\\\\marti\\\\AppData\\\\Roaming\\\\MetaQuotes\\\\Terminal\\\\Common')\n",
      "\n",
      "Account Info:\n",
      "  Login: 52385541\n",
      "  Balance: 10000.0\n",
      "  Equity: 10000.0\n",
      "  Free Margin: 10000.0\n"
     ]
    }
   ],
   "source": [
    "import MetaTrader5 as mt5\n",
    "import pandas as pd\n",
    "import numpy as np\n",
    "from tensorflow.keras.models import load_model\n",
    "from sklearn.preprocessing import StandardScaler\n",
    "import time\n",
    "import joblib\n",
    "import MetaTrader5 as mt5\n",
    "from bot_functions import *\n",
    "\n",
    "# Conectar com MT5\n",
    "\n",
    "# Display data on the MetaTrader 5 package\n",
    "print(\"MetaTrader5 package author: \", mt5.__author__)\n",
    "print(\"MetaTrader5 package version: \", mt5.__version__)\n",
    "\n",
    "# Establish connection to the MetaTrader 5 terminal\n",
    "# You can specify a path to the terminal executable if it's not in the default location\n",
    "mt5.initialize(path=\"C:\\Program Files\\MetaTrader 5 IC Markets EU\\terminal64.exe\")\n",
    "if not mt5.initialize():\n",
    "    print(\"initialize() failed, error code =\", mt5.last_error())\n",
    "    quit()\n",
    "\n",
    "# Get basic terminal info\n",
    "print(mt5.terminal_info())\n",
    "\n",
    "# Get account info (useful to check if logged in)\n",
    "account_info = mt5.account_info()\n",
    "if account_info:\n",
    "    print(\"\\nAccount Info:\")\n",
    "    print(f\"  Login: {account_info.login}\")\n",
    "    print(f\"  Balance: {account_info.balance}\")\n",
    "    print(f\"  Equity: {account_info.equity}\")\n",
    "    print(f\"  Free Margin: {account_info.margin_free}\")\n",
    "else:\n",
    "    print(\"Failed to get account info, error code =\", mt5.last_error())\n",
    "\n",
    "# At the end of your script or when done, shut down the connection\n",
    "# mt5.shutdown()\n",
    "\n"
   ]
  },
  {
   "cell_type": "code",
   "execution_count": null,
   "id": "e6f80a1d",
   "metadata": {},
   "outputs": [
    {
     "name": "stdout",
     "output_type": "stream",
     "text": [
      "Bundle loaded.\n",
      "\u001b[1m1/1\u001b[0m \u001b[32m━━━━━━━━━━━━━━━━━━━━\u001b[0m\u001b[37m\u001b[0m \u001b[1m0s\u001b[0m 428ms/step\n",
      "Predição: 2\n",
      "\u001b[1m1/1\u001b[0m \u001b[32m━━━━━━━━━━━━━━━━━━━━\u001b[0m\u001b[37m\u001b[0m \u001b[1m0s\u001b[0m 47ms/step\n",
      "Predição: 2\n",
      "\u001b[1m1/1\u001b[0m \u001b[32m━━━━━━━━━━━━━━━━━━━━\u001b[0m\u001b[37m\u001b[0m \u001b[1m0s\u001b[0m 157ms/step\n",
      "Predição: 2\n"
     ]
    }
   ],
   "source": [
    "# ir buscar o modelo\n",
    "loaded_bundle = joblib.load('eurusd_model.joblib')\n",
    "print(\"Bundle loaded.\")\n",
    "# Access individual components from the loaded bundle\n",
    "model = loaded_bundle['model']\n",
    "sl_tp_map = loaded_bundle['sl_tp_map']\n",
    "avg_duration_by_class = loaded_bundle['avg_duration_by_class']\n",
    "scaler = loaded_bundle['scaler']\n",
    "\n",
    "#put parameters\n",
    "SYMBOL = \"EURUSD\"\n",
    "TIMEFRAME = mt5.TIMEFRAME_M5\n",
    "mt5.symbol_select(SYMBOL, True)\n",
    "class_to_direction = {0: -1, 1: -1, 2: 0, 3: 1, 4: 1}\n",
    "# ver isto...................\n",
    "DEVIATION = 10\n",
    "risk_per_trade_percentage = 0.01\n",
    "\n",
    "# run the model\n",
    "while True:\n",
    "    df = get_latest_data(SYMBOL, TIMEFRAME, 50)\n",
    "    X = build_dataset(df)\n",
    "    X_scaled = scale(X, scaler)\n",
    "    last_candle = X_scaled[-1:].copy()\n",
    "    prediction = model.predict(last_candle)\n",
    "    signal = np.argmax(prediction)\n",
    "    sltp = sl_tp_map.get(signal, {'sl': None, 'tp': None})\n",
    "    sl = sltp['sl']\n",
    "    tp = sltp['tp']\n",
    "    balance = account_info.equity\n",
    "    direction = class_to_direction.get(signal, 0)\n",
    "    print(f\"Predição: {signal}\")\n",
    "    if signal != 2:\n",
    "        lot_size_multiplier = calculate_lot_size_multiplier(sl, balance, risk_per_trade_percentage)\n",
    "        execute_trade(sl, tp, direction, lot_size_multiplier, SYMBOL, DEVIATION)\n",
    "    time.sleep(300)  # espera 5 minutos"
   ]
  }
 ],
 "metadata": {
  "kernelspec": {
   "display_name": "quant-trading",
   "language": "python",
   "name": "python3"
  },
  "language_info": {
   "codemirror_mode": {
    "name": "ipython",
    "version": 3
   },
   "file_extension": ".py",
   "mimetype": "text/x-python",
   "name": "python",
   "nbconvert_exporter": "python",
   "pygments_lexer": "ipython3",
   "version": "3.10.18"
  }
 },
 "nbformat": 4,
 "nbformat_minor": 5
}
